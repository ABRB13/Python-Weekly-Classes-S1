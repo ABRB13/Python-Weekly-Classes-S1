{
 "cells": [
  {
   "cell_type": "code",
   "execution_count": 10,
   "metadata": {},
   "outputs": [],
   "source": [
    "from PIL import Image\n",
    "\n",
    "with Image.open('img.png') as img:\n",
    "    img.show()\n",
    "\n",
    "    img.save('samp.png')"
   ]
  },
  {
   "cell_type": "code",
   "execution_count": 11,
   "metadata": {},
   "outputs": [],
   "source": [
    "from PIL import Image \n",
    "\n",
    "image = Image.open('768.png')\n",
    "\n",
    "image.show"
   ]
  },
  {
   "cell_type": "code",
   "execution_count": 3,
   "metadata": {},
   "outputs": [
    {
     "name": "stdout",
     "output_type": "stream",
     "text": [
      "9\n",
      "1\n"
     ]
    }
   ],
   "source": [
    "from func1 import add, sub\n",
    "\n",
    "print(add(5,4))\n",
    "print(sub(5,4))"
   ]
  },
  {
   "cell_type": "code",
   "execution_count": 40,
   "metadata": {},
   "outputs": [],
   "source": [
    "#local, global, nonlocal/global varibales \n",
    "\n",
    "def local_ex():\n",
    "\n",
    "    local_va = \"I am a local variable\"\n",
    "    return local_va"
   ]
  },
  {
   "cell_type": "code",
   "execution_count": 42,
   "metadata": {},
   "outputs": [
    {
     "ename": "NameError",
     "evalue": "name 'local_va' is not defined",
     "output_type": "error",
     "traceback": [
      "\u001b[1;31m---------------------------------------------------------------------------\u001b[0m",
      "\u001b[1;31mNameError\u001b[0m                                 Traceback (most recent call last)",
      "Cell \u001b[1;32mIn[42], line 1\u001b[0m\n\u001b[1;32m----> 1\u001b[0m \u001b[43mlocal_va\u001b[49m\n",
      "\u001b[1;31mNameError\u001b[0m: name 'local_va' is not defined"
     ]
    }
   ],
   "source": [
    "local_va"
   ]
  },
  {
   "cell_type": "code",
   "execution_count": 27,
   "metadata": {},
   "outputs": [],
   "source": [
    "var = \"I am global\"\n",
    "\n",
    "def global_ex():\n",
    "    nonlocal var\n",
    "    var = 'modified'\n",
    "    \n",
    "    return(var)"
   ]
  },
  {
   "cell_type": "code",
   "execution_count": 28,
   "metadata": {},
   "outputs": [
    {
     "data": {
      "text/plain": [
       "'I am global'"
      ]
     },
     "execution_count": 28,
     "metadata": {},
     "output_type": "execute_result"
    }
   ],
   "source": [
    "var"
   ]
  },
  {
   "cell_type": "code",
   "execution_count": 29,
   "metadata": {},
   "outputs": [
    {
     "data": {
      "text/plain": [
       "'modified'"
      ]
     },
     "execution_count": 29,
     "metadata": {},
     "output_type": "execute_result"
    }
   ],
   "source": [
    "global_ex()"
   ]
  },
  {
   "cell_type": "code",
   "execution_count": 30,
   "metadata": {},
   "outputs": [
    {
     "data": {
      "text/plain": [
       "'modified'"
      ]
     },
     "execution_count": 30,
     "metadata": {},
     "output_type": "execute_result"
    }
   ],
   "source": [
    "var"
   ]
  },
  {
   "cell_type": "code",
   "execution_count": null,
   "metadata": {},
   "outputs": [],
   "source": [
    "from PIL import Image\n",
    "\n",
    "\n",
    "\n",
    "\n",
    "\n",
    "\n",
    "\n",
    "\n",
    "\n"
   ]
  },
  {
   "cell_type": "code",
   "execution_count": 43,
   "metadata": {},
   "outputs": [
    {
     "ename": "SyntaxError",
     "evalue": "incomplete input (3370605386.py, line 1)",
     "output_type": "error",
     "traceback": [
      "\u001b[1;36m  Cell \u001b[1;32mIn[43], line 1\u001b[1;36m\u001b[0m\n\u001b[1;33m    def load_image(image):\u001b[0m\n\u001b[1;37m                          ^\u001b[0m\n\u001b[1;31mSyntaxError\u001b[0m\u001b[1;31m:\u001b[0m incomplete input\n"
     ]
    }
   ],
   "source": [
    "def load_image(image):\n",
    "    image = Image.open(image)\n",
    "\n",
    "    px = image.load()\n",
    "\n",
    "def process():\n",
    "    pixels = []\n",
    "    coordinates = []\n",
    "\n",
    "    for a in range (0, 768):\n",
    "        for b in range (0,768): #0, 0\n",
    "            rgb = px[a,b] #px[0,0], \n",
    "            coordinates.append([a,b])\n",
    "\n",
    "            if rgb[0] <= 20:\n",
    "                pixels.append((0,0,0))\n",
    "            else:\n",
    "                pixels.append((80,80,80))\n",
    "    return pixels, coordinates \n",
    "\n",
    "def dataframe():\n",
    "    column = ['coordinates', 'pixels']\n",
    "\n",
    "    df = pd.DataFrame(zip(coordinates, pixels), columns = column)\n",
    "\n",
    "def build_image(output_dir):\n",
    "    from PIL import ImageDraw \n",
    "\n",
    "    ouput = Image.new(\"RGB\", (768,768))\n",
    "    draw = ImageDraw.Draw(ouput)\n",
    "\n",
    "\n",
    "    for row in df.itertuples(index=True, name='Pandas'):\n",
    "        draw.point(row.coordinates, row.pixels)\n",
    "\n",
    "    ouput.save(output_dir)\n",
    "\n",
    "\n"
   ]
  },
  {
   "cell_type": "code",
   "execution_count": 3,
   "metadata": {},
   "outputs": [],
   "source": [
    "from func1 import load_image\n",
    "\n",
    "image = load_image('768.png')\n"
   ]
  }
 ],
 "metadata": {
  "kernelspec": {
   "display_name": "Python 3",
   "language": "python",
   "name": "python3"
  },
  "language_info": {
   "codemirror_mode": {
    "name": "ipython",
    "version": 3
   },
   "file_extension": ".py",
   "mimetype": "text/x-python",
   "name": "python",
   "nbconvert_exporter": "python",
   "pygments_lexer": "ipython3",
   "version": "3.12.2"
  }
 },
 "nbformat": 4,
 "nbformat_minor": 2
}
