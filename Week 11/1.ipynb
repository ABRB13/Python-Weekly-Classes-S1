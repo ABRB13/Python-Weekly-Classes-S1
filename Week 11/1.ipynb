{
 "cells": [
  {
   "cell_type": "code",
   "execution_count": 8,
   "metadata": {},
   "outputs": [
    {
     "name": "stdout",
     "output_type": "stream",
     "text": [
      "*\n",
      "**\n",
      "***\n",
      "****\n",
      "*****\n"
     ]
    }
   ],
   "source": [
    "n = 5\n",
    "\n",
    "for i in range(1, n+1): #(1,6) #iter i = 1, i = 2, i = 3, i = 5\n",
    "    for j in range(1, i+1): #range(1, 2) range(1, 3)\n",
    "        print('*', end= '')  #*, **, \n",
    "    print() #*"
   ]
  },
  {
   "cell_type": "code",
   "execution_count": 2,
   "metadata": {},
   "outputs": [
    {
     "name": "stdout",
     "output_type": "stream",
     "text": [
      "1\n",
      "2\n",
      "3\n",
      "4\n",
      "5\n"
     ]
    }
   ],
   "source": [
    "for i in range(1, 6):\n",
    "    print(i)"
   ]
  },
  {
   "cell_type": "code",
   "execution_count": 6,
   "metadata": {},
   "outputs": [
    {
     "name": "stdout",
     "output_type": "stream",
     "text": [
      "***"
     ]
    }
   ],
   "source": [
    "for j in range(1, 4): #range(1, 2) range(1, 3)\n",
    "    print('*', end= '')"
   ]
  },
  {
   "cell_type": "code",
   "execution_count": 9,
   "metadata": {},
   "outputs": [
    {
     "name": "stdout",
     "output_type": "stream",
     "text": [
      "*#*#*#*#\n",
      "#*#*#*#*\n",
      "*#*#*#*#\n",
      "#*#*#*#*\n",
      "*#*#*#*#\n",
      "#*#*#*#*\n",
      "*#*#*#*#\n",
      "#*#*#*#*\n"
     ]
    }
   ],
   "source": [
    "n = 8\n",
    "\n",
    "\n",
    "for i in range(n):\n",
    "    for j in range(n):\n",
    "        if (i+j) % 2 == 0:\n",
    "            print('*', end ='')\n",
    "    elif:\n",
    "        print('')\n",
    "    \n",
    "    \n",
    "    print()"
   ]
  },
  {
   "cell_type": "code",
   "execution_count": null,
   "metadata": {},
   "outputs": [],
   "source": [
    "#image\n",
    "\n",
    "#pillow\n",
    "\n",
    "# image\n",
    "\n",
    "def load_image(image):\n",
    "\n",
    "    from PIL import ImageDraw \n",
    "    image = Image.open(image)\n",
    "\n",
    "    px = image.load()\n",
    "\n",
    "    pixels = []\n",
    "    coordinates = []\n",
    "\n",
    "    for a in range (0, 768):\n",
    "        for b in range (0,768): #0, 0\n",
    "            rgb = px[a,b] #px[0,0], \n",
    "            coordinates.append([a,b])\n",
    "\n",
    "            if rgb[0] <= 20:\n",
    "                pixels.append((0,0,0))\n",
    "            else:\n",
    "                pixels.append((80,80,80))\n",
    "\n",
    "    column = ['coordinates', 'pixels']\n",
    "\n",
    "    df = pd.DataFrame(zip(coordinates, pixels), columns = column)\n",
    "\n",
    "\n",
    "    ouput = Image.new(\"RGB\", (768,768))\n",
    "    draw = ImageDraw.Draw('')\n",
    "\n",
    "\n",
    "    for row in df.itertuples(index=True, name='Pandas'):\n",
    "        draw.point(row.coordinates, row.pixels)\n",
    "\n",
    "    ouput.save(output_dir)\n",
    "\n",
    "\n",
    "\n",
    "\n"
   ]
  },
  {
   "cell_type": "code",
   "execution_count": null,
   "metadata": {},
   "outputs": [],
   "source": []
  },
  {
   "cell_type": "code",
   "execution_count": 15,
   "metadata": {},
   "outputs": [],
   "source": [
    "from PIL import Image\n",
    "\n",
    "image = Image.open('samp.png')\n",
    "\n",
    "pixels = image.load()\n",
    "\n",
    "for i in range(image.width): #0 #i = 1\n",
    "    for j in range(image.height): #0, 1, 2, 3, 190, \n",
    "        r, g, b = pixels[i, j] #0,0 \n",
    "\n",
    "        gray = int(0.3 * r + 0.59 * g + 0.11 * b)\n",
    "\n",
    "        pixels[i, j] = (gray, gray, gray)\n",
    "\n",
    "image.save('gray.png')\n"
   ]
  },
  {
   "cell_type": "code",
   "execution_count": 12,
   "metadata": {},
   "outputs": [
    {
     "data": {
      "text/plain": [
       "<PixelAccess at 0x16942ff41f0>"
      ]
     },
     "execution_count": 12,
     "metadata": {},
     "output_type": "execute_result"
    }
   ],
   "source": [
    "pixels"
   ]
  },
  {
   "cell_type": "code",
   "execution_count": 14,
   "metadata": {},
   "outputs": [
    {
     "name": "stdout",
     "output_type": "stream",
     "text": [
      "161\n"
     ]
    }
   ],
   "source": [
    "print(r)"
   ]
  },
  {
   "cell_type": "code",
   "execution_count": 18,
   "metadata": {},
   "outputs": [
    {
     "name": "stdout",
     "output_type": "stream",
     "text": [
      "complete\n"
     ]
    }
   ],
   "source": [
    "with open('samp.txt', 'w') as file:\n",
    "    file.write('hello')\n",
    "    file.write('sdh')\n",
    "\n",
    "print('complete')"
   ]
  },
  {
   "cell_type": "code",
   "execution_count": 19,
   "metadata": {},
   "outputs": [],
   "source": [
    "def append_file(input_file, content):\n",
    "    with open(input_file, 'a') as file:\n",
    "        file.write(content)\n",
    "    print('completed')"
   ]
  },
  {
   "cell_type": "code",
   "execution_count": 20,
   "metadata": {},
   "outputs": [
    {
     "name": "stdout",
     "output_type": "stream",
     "text": [
      "completed\n"
     ]
    }
   ],
   "source": [
    "append_file('samp.txt', 'see u next week')"
   ]
  },
  {
   "cell_type": "code",
   "execution_count": null,
   "metadata": {},
   "outputs": [],
   "source": [
    "#oops \n",
    "#assignment 2 answers "
   ]
  }
 ],
 "metadata": {
  "kernelspec": {
   "display_name": "Python 3",
   "language": "python",
   "name": "python3"
  },
  "language_info": {
   "codemirror_mode": {
    "name": "ipython",
    "version": 3
   },
   "file_extension": ".py",
   "mimetype": "text/x-python",
   "name": "python",
   "nbconvert_exporter": "python",
   "pygments_lexer": "ipython3",
   "version": "3.12.2"
  }
 },
 "nbformat": 4,
 "nbformat_minor": 2
}
