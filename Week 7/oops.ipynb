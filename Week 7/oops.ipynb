{
 "cells": [
  {
   "cell_type": "code",
   "execution_count": 1,
   "metadata": {},
   "outputs": [],
   "source": [
    "#oops and data strcutures (algorithms)\n",
    "\n",
    "\n",
    "#class, objects, methods\n",
    "#encapsulation\n",
    "#polymorphism  \n",
    "#inheritance (mutiple inher)\n",
    "\n",
    "#method overiding \n",
    "#decorators \n",
    "\n",
    "\n",
    "\n",
    "\n"
   ]
  },
  {
   "cell_type": "code",
   "execution_count": 77,
   "metadata": {},
   "outputs": [
    {
     "ename": "IndentationError",
     "evalue": "expected an indented block after class definition on line 15 (3478171947.py, line 19)",
     "output_type": "error",
     "traceback": [
      "\u001b[1;36m  Cell \u001b[1;32mIn[77], line 19\u001b[1;36m\u001b[0m\n\u001b[1;33m    car1 = Vehicle('t', 2014)\u001b[0m\n\u001b[1;37m    ^\u001b[0m\n\u001b[1;31mIndentationError\u001b[0m\u001b[1;31m:\u001b[0m expected an indented block after class definition on line 15\n"
     ]
    }
   ],
   "source": [
    "class Vehicle:\n",
    "    def __init__(self, name, year):\n",
    "        self.name = name\n",
    "        self.year = year\n",
    "    def display(self):\n",
    "        print(f\"bought the vehicle {self.name} in {self.year}\")\n",
    "\n",
    "\n",
    "class car(Vehicle):\n",
    "    def __init__(self, n, y):\n",
    "        self.n = n \n",
    "        self.y = y\n",
    "\n",
    "\n",
    "\n",
    "\n",
    "car1 = Vehicle('t', 2014)\n",
    "car1.display()"
   ]
  },
  {
   "cell_type": "code",
   "execution_count": 24,
   "metadata": {},
   "outputs": [],
   "source": []
  },
  {
   "cell_type": "code",
   "execution_count": 26,
   "metadata": {},
   "outputs": [
    {
     "name": "stdout",
     "output_type": "stream",
     "text": [
      "bought the vehicle t in 2014\n"
     ]
    }
   ],
   "source": [
    "car2 = car('t', 2014)\n",
    "car2.display()"
   ]
  },
  {
   "cell_type": "code",
   "execution_count": null,
   "metadata": {},
   "outputs": [],
   "source": [
    "class player:\n",
    "    def __init"
   ]
  },
  {
   "cell_type": "code",
   "execution_count": 14,
   "metadata": {},
   "outputs": [],
   "source": [
    "car1 = Car('toyota', 2024)"
   ]
  },
  {
   "cell_type": "code",
   "execution_count": 16,
   "metadata": {},
   "outputs": [
    {
     "name": "stdout",
     "output_type": "stream",
     "text": [
      "2034\n"
     ]
    }
   ],
   "source": [
    "car1.add()"
   ]
  },
  {
   "cell_type": "code",
   "execution_count": 33,
   "metadata": {},
   "outputs": [],
   "source": [
    "class Vehicle:\n",
    "    def __init__(self, name, year):\n",
    "        self.name = name\n",
    "        self.year = year\n",
    "    def display(self):\n",
    "        print(f\"bought the vehicle {self.name} in {self.year}\")"
   ]
  },
  {
   "cell_type": "code",
   "execution_count": 32,
   "metadata": {},
   "outputs": [
    {
     "name": "stdout",
     "output_type": "stream",
     "text": [
      "t 14\n"
     ]
    }
   ],
   "source": [
    "car = Vehicle()\n",
    "car.display('t', 14)"
   ]
  },
  {
   "cell_type": "code",
   "execution_count": 35,
   "metadata": {},
   "outputs": [
    {
     "name": "stdout",
     "output_type": "stream",
     "text": [
      "bought the vehicle t in 14\n"
     ]
    }
   ],
   "source": [
    "car = Vehicle('t', 14)\n",
    "car.display()"
   ]
  },
  {
   "cell_type": "code",
   "execution_count": null,
   "metadata": {},
   "outputs": [],
   "source": []
  },
  {
   "cell_type": "code",
   "execution_count": 101,
   "metadata": {},
   "outputs": [],
   "source": [
    "class Vehicle:\n",
    "    def __init__(self, name, year):\n",
    "        self.name = name\n",
    "        self.year = year\n",
    "    def display(self):\n",
    "        print(f\"bought the vehicle {self.name} in {self.year}\")\n",
    "\n",
    "class car(Vehicle):\n",
    "    def __init__(self, name, year, color):\n",
    "        super().__init__(name, year)\n",
    "        self.color = color\n",
    "    def display(self):\n",
    "        print(f\"bought the vehicle {self.name} in {self.year}, {self.color}\")\n",
    "\n",
    "class cycle(Vehicle):\n",
    "    def __init__(self, name, year, color, model, place):\n",
    "        super().__init__(name, year)\n",
    "    def display(self):\n",
    "        print(f\"bought the vehicle {self.name} in {self.year}, {self.color}, {self.place}, {self.model}\")\n",
    "\n",
    "\n"
   ]
  },
  {
   "cell_type": "code",
   "execution_count": 103,
   "metadata": {},
   "outputs": [],
   "source": [
    "car1 = car('a', 12, 'red')"
   ]
  },
  {
   "cell_type": "code",
   "execution_count": 104,
   "metadata": {},
   "outputs": [
    {
     "name": "stdout",
     "output_type": "stream",
     "text": [
      "bought the vehicle a in 12\n"
     ]
    }
   ],
   "source": [
    "car1.display()"
   ]
  },
  {
   "cell_type": "code",
   "execution_count": 64,
   "metadata": {},
   "outputs": [],
   "source": [
    "#encapsulation and access modifiers \n",
    "\n",
    "class student:\n",
    "    def __init__(self, student_id, balance):\n",
    "        self._student_id = student_id #protected data\n",
    "        self.__balance = balance #__private data \n",
    "    def display_balance(self):\n",
    "        print(f\"ID: {self._student_id}\")\n",
    "        print(f\"balance: {self.__balance}\")\n",
    "\n"
   ]
  },
  {
   "cell_type": "code",
   "execution_count": 65,
   "metadata": {},
   "outputs": [
    {
     "name": "stdout",
     "output_type": "stream",
     "text": [
      "ID: 323564\n",
      "balance: 10000\n"
     ]
    }
   ],
   "source": [
    "account = student('323564', 10000)\n",
    "account.display_balance()"
   ]
  },
  {
   "cell_type": "code",
   "execution_count": 66,
   "metadata": {},
   "outputs": [
    {
     "name": "stdout",
     "output_type": "stream",
     "text": [
      "ID: 1234\n",
      "balance: 10000\n"
     ]
    }
   ],
   "source": [
    "account._student_id = '1234'\n",
    "account.display_balance()"
   ]
  },
  {
   "cell_type": "code",
   "execution_count": 67,
   "metadata": {},
   "outputs": [
    {
     "name": "stdout",
     "output_type": "stream",
     "text": [
      "ID: 1234\n",
      "balance: 10000\n"
     ]
    }
   ],
   "source": [
    "\n",
    "account.display_balance()"
   ]
  },
  {
   "cell_type": "code",
   "execution_count": 141,
   "metadata": {},
   "outputs": [],
   "source": [
    "#polymorphinm\n",
    "\n",
    "class Animal: #parent \n",
    "    def speak(self):\n",
    "        return 'shut up'\n",
    "class Dog(Animal):\n",
    "    def speak(self):\n",
    "        return 'woof'\n",
    "class Cat(Animal):\n",
    "    def speak(self):\n",
    "        return 'meow'\n",
    "\n",
    "def make_sound(Animal):\n",
    "    return Animal.speak()\n",
    "        "
   ]
  },
  {
   "cell_type": "code",
   "execution_count": 143,
   "metadata": {},
   "outputs": [
    {
     "data": {
      "text/plain": [
       "'meow'"
      ]
     },
     "execution_count": 143,
     "metadata": {},
     "output_type": "execute_result"
    }
   ],
   "source": [
    "dog = Dog()\n",
    "cat = Cat() \n",
    "make_sound(dog)\n",
    "make_sound(cat)\n"
   ]
  },
  {
   "cell_type": "code",
   "execution_count": 99,
   "metadata": {},
   "outputs": [],
   "source": [
    "class Vehicle:\n",
    "    def __init__(self, name, year):\n",
    "        self.name = name\n",
    "        self.year = year\n",
    "    def display(self):\n",
    "        print(f\"bought the vehicle {self.name} in {self.year}\")\n",
    "\n",
    "class car(Vehicle):\n",
    "    def __init__(self, name, year, color):\n",
    "        super().__init__(name, year)\n",
    "        self.color = color\n",
    "\n",
    "    def display(self):\n",
    "        print(f\"bought the vehicle {self.name} in {self.year}, {self.color}\")\n",
    "\n",
    "class truck(Vehicle):\n",
    "    def __init__(self, name, year, color, model):\n",
    "        super().__init__(name, year)\n",
    "        self.color = color\n",
    "        self.model = model \n",
    "\n",
    "    def display(self):\n",
    "        print(f\"bought the vehicle {self.name} in {self.year}, {self.color}, {self.model}\")\n",
    "\n",
    "\n",
    "truct1 = truck('t', 20, 'red', 2012)"
   ]
  },
  {
   "cell_type": "code",
   "execution_count": 100,
   "metadata": {},
   "outputs": [
    {
     "name": "stdout",
     "output_type": "stream",
     "text": [
      "bought the vehicle t in 20, red, 2012\n"
     ]
    }
   ],
   "source": [
    "truct1.display()"
   ]
  }
 ],
 "metadata": {
  "kernelspec": {
   "display_name": "Python 3",
   "language": "python",
   "name": "python3"
  },
  "language_info": {
   "codemirror_mode": {
    "name": "ipython",
    "version": 3
   },
   "file_extension": ".py",
   "mimetype": "text/x-python",
   "name": "python",
   "nbconvert_exporter": "python",
   "pygments_lexer": "ipython3",
   "version": "3.12.2"
  }
 },
 "nbformat": 4,
 "nbformat_minor": 2
}
