{
 "cells": [
  {
   "cell_type": "code",
   "execution_count": 1,
   "metadata": {},
   "outputs": [],
   "source": [
    "#5! = 5  *4 * 3 * 2 * 1, n (n-1)\n",
    "\n",
    "def factorial(n): #n = 5, n=\n",
    "    if n == 0: \n",
    "        return 1\n",
    "    else:  # 5 * 4 * factorila (3)\n",
    "        return n * factorial(n-1) "
   ]
  },
  {
   "cell_type": "code",
   "execution_count": 3,
   "metadata": {},
   "outputs": [],
   "source": [
    "def fibbonaci(n):\n",
    "    if n <=1:\n",
    "        return n\n",
    "    else:\n",
    "        return fibbonaci(n-1) + fibbonaci(n-2)\n",
    "    "
   ]
  },
  {
   "cell_type": "code",
   "execution_count": 4,
   "metadata": {},
   "outputs": [
    {
     "name": "stdout",
     "output_type": "stream",
     "text": [
      "8\n"
     ]
    }
   ],
   "source": [
    "result = fibbonaci(6)\n",
    "print(result)"
   ]
  },
  {
   "cell_type": "code",
   "execution_count": 5,
   "metadata": {},
   "outputs": [],
   "source": [
    "def countdown(n):\n",
    "    if n == 0:\n",
    "        print(\"Start\")\n",
    "    else:\n",
    "        print(n) #5, 4, 3\n",
    "        countdown(n-1) #call by value, call by reference #c(4) C(2)"
   ]
  },
  {
   "cell_type": "code",
   "execution_count": 7,
   "metadata": {},
   "outputs": [
    {
     "name": "stdout",
     "output_type": "stream",
     "text": [
      "5\n",
      "4\n",
      "3\n",
      "2\n",
      "1\n",
      "Start\n"
     ]
    }
   ],
   "source": [
    "countdown(5)"
   ]
  },
  {
   "cell_type": "code",
   "execution_count": 8,
   "metadata": {},
   "outputs": [],
   "source": [
    "def power(base, exponent):\n",
    "    if exponent == 0:\n",
    "        return 1\n",
    "    else:\n",
    "        return base * power(base, exponent - 1) "
   ]
  },
  {
   "cell_type": "code",
   "execution_count": 6,
   "metadata": {},
   "outputs": [],
   "source": [
    "import pandas as pd\n",
    "\n",
    "path = 'C:\\\\Users\\\\abeeravolu\\\\Downloads\\\\A2\\\\CSV4.csv'\n",
    "\n",
    "df = pd.read_csv(path)"
   ]
  },
  {
   "cell_type": "code",
   "execution_count": 12,
   "metadata": {},
   "outputs": [],
   "source": [
    "text = df['TEXT']"
   ]
  },
  {
   "cell_type": "code",
   "execution_count": 22,
   "metadata": {},
   "outputs": [],
   "source": [
    "sample = df['TEXT'].iloc[0]"
   ]
  },
  {
   "cell_type": "code",
   "execution_count": 24,
   "metadata": {},
   "outputs": [
    {
     "data": {
      "text/plain": [
       "'admission date:  [**2150-4-17**]              discharge date:   [**2150-4-21**]\\n\\ndate of birth:  [**2090-5-19**]             sex:   m\\n\\nservice: medicine\\n\\nallergies:\\npatient recorded as having no known allergies to drugs\\n\\nattending:[**first name3 (lf) 12174**]\\nchief complaint:\\ncoffee ground emesis\\n\\nmajor surgical or invasive procedure:\\negd\\nright ij cvl\\n\\n\\nhistory of present illness:\\nmr. [**known lastname 52368**] is a 59m w hepc cirrhosis c/b grade i/ii esophageal\\nvarices and portal gastropathy (last egd [**3-/2150**]), who p/w\\ncoffee-ground emesis and melena x2 days.\\n.\\npt was in his usoh until about 2-3 days pta, when he began\\nexperiencing intermittent nausea. he had 2-3 episodes of\\ncoffee-ground emesis and 1 episode of tarry black stool in the\\nmorning of admission. he reports some lightheadedness which is\\nnot new, but denies frank hematemesis, brbpr, abdominal pain,\\nfever, chills, significant increases in his abdominal girth. he\\ndenies drinking or medication non-compliance. he also reports\\ntaking naproxen for back pain 2-3 times a day in the recent\\npast.\\n.\\nin the ed, his vitals were 97.4, 93/41, 69, 18, 100% on ra. he\\nwas given 4l ns iv, protonix 40mg iv, started on an octreotide\\ndrip. he had guaiac positive brown stool on rectal exam. he was\\nseen by the liver fellow in the ed who felt this was unlikely a\\nvariceal bleed and recommended work up for infection. an ng tube\\nwas attempted, however, patient was unable to tolerate it in the\\ned. abdominal ultrasound was done which showed a patent portal\\nvein, scant ascites but not enough to tap. bp dropped to 80/34,\\npt transferred to micu for hemodynamic monitoring.\\n.\\nin the micu, pt was given 3 prbc, hct bumped from 21.3 to 28.\\nstarted on norepinephrine gtt for a few hours, but bp\\nstabilized. on transfer to the floor, remains hemodynamically\\nstable. feels good, denies tarry or bloody bms, emesis.\\n\\npast medical history:\\nhcv cirrhosis (tx with interferon x2 with no response)\\nportal gastropathy\\ngrade ii esophageal varices\\nhtn\\n\\nsocial history:\\nhe lives alone.  he is drinking alcohol, usually one session per\\nweek. he has four to five drinks per session. he was told to\\ncompletely abstain from alcohol, effective as of today. he\\nsmokes about 20 cigarettes per day.\\n\\n\\nfamily history:\\nnc\\n\\nphysical exam:\\non admission:\\nvs: t95.9 hr 71 bp 83/36 rr 11  96% 2l nc\\ngen: somnolent, oriented x 3, unable to assess for asterixis\\ngiven somnolence\\nheent: perrla, eomi\\nneck: supple, jvp at angle of jaw (fluid bolus running wide\\nopen)\\ncv: rrr s1 s2 no appreciable murmur\\nlungs: ctab\\nabd: distended, non tender, no rebound or guarding, bowel sounds\\npositive\\next: 1+ pitting edema bilaterally\\nskin: warm, diaphoretic, no rash or lesions noted\\n\\npertinent results:\\nlabs on admission:\\n[**2150-4-17**] 01:30pm blood wbc-17.9*# rbc-2.78* hgb-8.5* hct-26.0*\\nmcv-94 mch-30.6 mchc-32.7 rdw-20.6* plt ct-186\\n[**2150-4-17**] 01:30pm blood neuts-61.2 lymphs-28.8 monos-6.9 eos-2.2\\nbaso-0.9\\n[**2150-4-17**] 02:13pm blood pt-17.7* ptt-34.5 inr(pt)-1.6*\\n[**2150-4-17**] 01:30pm blood glucose-92 urean-51* creat-1.3* na-131*\\nk-5.7* cl-104 hco3-21* angap-12\\n[**2150-4-17**] 01:30pm blood alt-126* ast-260* ld(ldh)-426*\\nalkphos-157* totbili-3.3*\\n[**2150-4-17**] 06:41pm blood calcium-7.5* phos-3.8 mg-1.9\\n.\\nlabs on discharge:\\n[**2150-4-21**] 05:00am blood wbc-10.7 rbc-2.94* hgb-9.6* hct-27.0*\\nmcv-92 mch-32.6* mchc-35.6* rdw-21.2* plt ct-110*\\n[**2150-4-21**] 05:00am blood pt-17.4* ptt-35.6* inr(pt)-1.6*\\n[**2150-4-21**] 05:00am blood glucose-84 urean-15 creat-1.0 na-132*\\nk-4.4 cl-99 hco3-25 angap-12\\n[**2150-4-21**] 05:00am blood alt-113* ast-210* alkphos-111\\ntotbili-3.6*\\n[**2150-4-21**] 05:00am blood calcium-8.1* phos-3.8 mg-1.7\\n.\\nother labs:\\n[**2150-4-18**] 06:25am blood ck-mb-9 ctropnt-<0.01\\n[**2150-4-17**] 06:41pm blood ck-mb-11* mb indx-4.9 ctropnt-<0.01\\n[**2150-4-17**] 01:30pm blood lipase-85*\\n.\\nurine:\\n[**2150-4-17**] 11:01pm urine color-yellow appear-clear sp [**last name (un) **]-1.016\\n[**2150-4-17**] 11:01pm urine blood-lg nitrite-neg protein-neg\\nglucose-neg ketone-neg bilirub-neg urobiln-2* ph-5.5 leuks-neg\\n[**2150-4-17**] 11:01pm urine rbc-63* wbc-7* bacteri-none yeast-none\\nepi-<1\\n.\\nmicrobiology:\\nblood, urine cultures - negative\\nh.pylori serum antibody - negative\\n.\\ncardiology:\\n.\\ntte ([**4-18**]):\\nconclusions\\nthe left atrium is dilated. left ventricular wall thicknesses\\nand cavity size are normal. left ventricular systolic function\\nis hyperdynamic (ef>75%). right ventricular chamber size and\\nfree wall motion are normal. the aortic valve leaflets (3) are\\nmildly thickened but aortic stenosis is not present. no aortic\\nregurgitation is seen. the mitral valve leaflets are mildly\\nthickened. mild (1+) mitral regurgitation is seen. there is\\nmoderate pulmonary artery systolic hypertension. there is no\\npericardial effusion.\\nimpression: hyperdynamic lv systolic function. mild mitral\\nregurgitation. moderate pulmonary artery systolic hypertension.\\n\\n.\\nekg ([**4-17**]):\\nsinus rhythm\\nprolonged qt interval is nonspecific but clinical correlation is\\nsuggested\\nno previous tracing available for comparison\\n  intervals axes\\nrate pr qrs qt/qtc p qrs t\\n70 160 96 462/479 70 55 52\\n.\\ngi:\\negd ([**4-20**]):\\n1. varices at the lower third of the esophagus and middle third\\nof the esophagus.\\n2. erythema and erosion in the antrum and pylorus compatible\\nwith non-steroidal induced gastritis.\\n3. bleeding from a pyloric ulcer in the pylorus compatible with\\nnon-steroidal induced ulcer (injection, thermal therapy).\\n4. normal mucosa in the duodenum.\\n5. otherwise normal egd to third part of the duodenum\\n.\\nradiology:\\n.\\ncxr ([**4-17**]):\\nthe prominent bulge to the right heart border could be due to\\npericardial\\neffusion, _____ cyst, and enlarged right atrium. there is no\\nmediastinal\\nvascular engorgement to suggest cardiac tamponade. pulmonary\\nvasculature is normal. the lungs are clear and there is no\\npleural effusion. overall heart size is normal. right jugular\\nline ends at the junction of the\\nbrachiocephalic veins. no pneumothorax or pleural effusion.\\n.\\nabd u/s ([**4-17**]):\\nimpression:\\n1. no son[**name (ni) 493**] evidence for portal venous thrombosis. portal\\nvein flow is hepatopetal and wall-to-wall.\\n2. no significant ascites. a sliver of perihepatic ascites.\\n3. persistent coarsened echotexture of the liver consistent with\\nknown\\nhistory of cirrhosis.\\n4. splenomegaly\\n\\nbrief hospital course:\\nmr [**known lastname 52368**] is a 59m w hcv cirrhosis w grade ii esophageal varices\\nadmitted w coffee-ground emesis and melena concerning for ugib,\\ns/p micu stay for hypotension.\\n.\\n# ugib: pt did not have any more bleeds while in hospital. egd\\nrevealed erythema and erosion in the antrum and pylorus\\ncompatible with non-steroidal induced gastritis. pt did remember\\ntaking increased doses of naproxen for backache. started on\\npantoprazole 40mg po bid for one week with repeat endoscopy\\nscheduled in one week ([**4-30**]). recommended to take tylenol (max\\ndaily dose of 2gm) for pain instead of nsaids. blood pressure\\nmeds were held at first, given micu admission for hypotension,\\nbut were restarted on discharge.\\n.\\n# hcv cirrhosis: appears to be progressing to liver failure,\\nwith elevated inr at 1.6, decreased albumin at 2.6, tbili\\nslightly elevated at 3.6, and chronic le edema. pt was continued\\non prophylactic medications.\\n.\\n# full code\\n\\nmedications on admission:\\nfurosemide 20mg daily\\nlisinopril 10 mg daily\\nspironolactone 100 mg daily\\n\\ndischarge medications:\\n1. phenol 1.4 % aerosol, spray sig: one (1) spray mucous\\nmembrane prn (as needed).\\n2. lactulose 10 gram/15 ml syrup sig: thirty (30) ml po tid (3\\ntimes a day).\\n3. thiamine hcl 100 mg tablet sig: one (1) tablet po daily\\n(daily).\\n4. folic acid 1 mg tablet sig: one (1) tablet po daily (daily).\\n\\n5. spironolactone 100 mg tablet sig: one (1) tablet po daily\\n(daily).\\n6. furosemide 40 mg tablet sig: one (1) tablet po once a day.\\n7. acetaminophen 325 mg tablet sig: 1-2 tablets po every [**6-15**]\\nhours as needed: no more than 6 tablets of regular strength\\ntylenol per day.\\n8. terbinafine 1 % cream sig: one (1) appl topical [**hospital1 **] (2 times\\na day) for 1 weeks.\\ndisp:*qs * refills:*0*\\n9. nadolol 20 mg tablet sig: one (1) tablet po daily (daily).\\n10. pantoprazole 40 mg tablet, delayed release (e.c.) sig: one\\n(1) tablet, delayed release (e.c.) po twice a day for 1 weeks:\\nthen take 1 tablet daily.\\ndisp:*60 tablet, delayed release (e.c.)(s)* refills:*2*\\n11. camphor-menthol 0.5-0.5 % lotion sig: one (1) appl topical\\nqid (4 times a day) as needed for itching.\\ndisp:*qs * refills:*0*\\n12. lisinopril 10 mg tablet sig: one (1) tablet po once a day.\\n\\n\\ndischarge disposition:\\nhome\\n\\ndischarge diagnosis:\\npeptic ulcer\\ngi bleed\\n\\ndischarge condition:\\nasymptomatic\\n\\ndischarge instructions:\\nyou were admitted for bleeding from an ulcer in your stomach.\\nthis ulcer is at least partially caused by naproxen.  you should\\nstop taking naproxen and take only tylenol for pain.  you should\\nnot take any nsaids for pain including ibuprofen, naproxen,\\naleve, motrin, aspirin, toradol, or advil. it is okay to take\\ntylenol but do not take more than 4 extra strength tylenol a day\\n(2gram daily maximum).\\n.\\nthe following medication changes were made:\\ndo not take naproxen\\ntake pantoprazole 40 mg twice daily for one week.  then take 40\\nmg daily.\\n.\\nyou are scheduled to get a repeat endoscopy next week.  prior to\\nthe procedure do not have anything to drink or eat after\\nmidnight.\\n.\\nplease return to the er if you have any chest pain,\\nlightheadeness, fever, chills, bloody or black stools or any\\nother concerning symptoms.\\n\\nfollowup instructions:\\nprovider: [**name10 (nameis) **] [**apartment address(1) **] (st-3) gi rooms date/time:[**2150-4-30**] 1:30\\nprovider: [**first name11 (name pattern1) **] [**last name (namepattern1) 7290**], md phone:[**telephone/fax (1) 463**] date/time:[**2150-4-30**]\\n1:30\\nprovider: [**name10 (nameis) **] [**last name (namepattern4) 2424**], md phone:[**telephone/fax (1) 2422**]\\ndate/time:[**2150-5-7**] 11:00\\n\\n\\n\\ncompleted by:[**2150-4-24**]'"
      ]
     },
     "execution_count": 24,
     "metadata": {},
     "output_type": "execute_result"
    }
   ],
   "source": [
    "sample.lower()"
   ]
  },
  {
   "cell_type": "code",
   "execution_count": 25,
   "metadata": {},
   "outputs": [
    {
     "data": {
      "text/html": [
       "<div>\n",
       "<style scoped>\n",
       "    .dataframe tbody tr th:only-of-type {\n",
       "        vertical-align: middle;\n",
       "    }\n",
       "\n",
       "    .dataframe tbody tr th {\n",
       "        vertical-align: top;\n",
       "    }\n",
       "\n",
       "    .dataframe thead th {\n",
       "        text-align: right;\n",
       "    }\n",
       "</style>\n",
       "<table border=\"1\" class=\"dataframe\">\n",
       "  <thead>\n",
       "    <tr style=\"text-align: right;\">\n",
       "      <th></th>\n",
       "      <th>HADM_ID</th>\n",
       "      <th>TEXT</th>\n",
       "      <th>LABLE</th>\n",
       "    </tr>\n",
       "  </thead>\n",
       "  <tbody>\n",
       "    <tr>\n",
       "      <th>0</th>\n",
       "      <td>100003</td>\n",
       "      <td>Admission Date:  [**2150-4-17**]              ...</td>\n",
       "      <td>285</td>\n",
       "    </tr>\n",
       "    <tr>\n",
       "      <th>1</th>\n",
       "      <td>100009</td>\n",
       "      <td>Admission Date:  [**2162-5-16**]              ...</td>\n",
       "      <td>285</td>\n",
       "    </tr>\n",
       "    <tr>\n",
       "      <th>2</th>\n",
       "      <td>100011</td>\n",
       "      <td>Admission Date:  [**2177-8-29**]              ...</td>\n",
       "      <td>285</td>\n",
       "    </tr>\n",
       "    <tr>\n",
       "      <th>3</th>\n",
       "      <td>100021</td>\n",
       "      <td>Admission Date:  [**2109-8-17**]              ...</td>\n",
       "      <td>281</td>\n",
       "    </tr>\n",
       "    <tr>\n",
       "      <th>4</th>\n",
       "      <td>100030</td>\n",
       "      <td>Admission Date:  [**2199-12-3**]       Dischar...</td>\n",
       "      <td>285</td>\n",
       "    </tr>\n",
       "    <tr>\n",
       "      <th>...</th>\n",
       "      <td>...</td>\n",
       "      <td>...</td>\n",
       "      <td>...</td>\n",
       "    </tr>\n",
       "    <tr>\n",
       "      <th>95</th>\n",
       "      <td>100612</td>\n",
       "      <td>Admission Date:  [**2191-1-27**]              ...</td>\n",
       "      <td>285</td>\n",
       "    </tr>\n",
       "    <tr>\n",
       "      <th>96</th>\n",
       "      <td>100622</td>\n",
       "      <td>Admission Date:  [**2189-2-26**]              ...</td>\n",
       "      <td>285</td>\n",
       "    </tr>\n",
       "    <tr>\n",
       "      <th>97</th>\n",
       "      <td>100636</td>\n",
       "      <td>Admission Date:  [**2189-1-17**]              ...</td>\n",
       "      <td>285</td>\n",
       "    </tr>\n",
       "    <tr>\n",
       "      <th>98</th>\n",
       "      <td>100638</td>\n",
       "      <td>Admission Date:  [**2158-3-31**]              ...</td>\n",
       "      <td>285</td>\n",
       "    </tr>\n",
       "    <tr>\n",
       "      <th>99</th>\n",
       "      <td>100653</td>\n",
       "      <td>Admission Date:  [**2157-7-29**]              ...</td>\n",
       "      <td>285</td>\n",
       "    </tr>\n",
       "  </tbody>\n",
       "</table>\n",
       "<p>100 rows × 3 columns</p>\n",
       "</div>"
      ],
      "text/plain": [
       "    HADM_ID                                               TEXT LABLE\n",
       "0    100003  Admission Date:  [**2150-4-17**]              ...   285\n",
       "1    100009  Admission Date:  [**2162-5-16**]              ...   285\n",
       "2    100011  Admission Date:  [**2177-8-29**]              ...   285\n",
       "3    100021  Admission Date:  [**2109-8-17**]              ...   281\n",
       "4    100030  Admission Date:  [**2199-12-3**]       Dischar...   285\n",
       "..      ...                                                ...   ...\n",
       "95   100612  Admission Date:  [**2191-1-27**]              ...   285\n",
       "96   100622  Admission Date:  [**2189-2-26**]              ...   285\n",
       "97   100636  Admission Date:  [**2189-1-17**]              ...   285\n",
       "98   100638  Admission Date:  [**2158-3-31**]              ...   285\n",
       "99   100653  Admission Date:  [**2157-7-29**]              ...   285\n",
       "\n",
       "[100 rows x 3 columns]"
      ]
     },
     "execution_count": 25,
     "metadata": {},
     "output_type": "execute_result"
    }
   ],
   "source": [
    "df"
   ]
  },
  {
   "cell_type": "code",
   "execution_count": 30,
   "metadata": {},
   "outputs": [],
   "source": [
    "def cleanpunc(sentence):\n",
    "    cleaned = sentence.lower()\n",
    "    cleaned = cleaned.strip()\n",
    "    cleaned = cleaned.replace(\"\\n\", \" \")\n",
    "    return cleaned\n"
   ]
  },
  {
   "cell_type": "code",
   "execution_count": 31,
   "metadata": {},
   "outputs": [],
   "source": [
    "df['Sample'] = df['TEXT'].apply(cleanpunc)"
   ]
  },
  {
   "cell_type": "code",
   "execution_count": 32,
   "metadata": {},
   "outputs": [
    {
     "data": {
      "text/html": [
       "<div>\n",
       "<style scoped>\n",
       "    .dataframe tbody tr th:only-of-type {\n",
       "        vertical-align: middle;\n",
       "    }\n",
       "\n",
       "    .dataframe tbody tr th {\n",
       "        vertical-align: top;\n",
       "    }\n",
       "\n",
       "    .dataframe thead th {\n",
       "        text-align: right;\n",
       "    }\n",
       "</style>\n",
       "<table border=\"1\" class=\"dataframe\">\n",
       "  <thead>\n",
       "    <tr style=\"text-align: right;\">\n",
       "      <th></th>\n",
       "      <th>HADM_ID</th>\n",
       "      <th>TEXT</th>\n",
       "      <th>LABLE</th>\n",
       "      <th>Sample</th>\n",
       "    </tr>\n",
       "  </thead>\n",
       "  <tbody>\n",
       "    <tr>\n",
       "      <th>0</th>\n",
       "      <td>100003</td>\n",
       "      <td>Admission Date:  [**2150-4-17**]              ...</td>\n",
       "      <td>285</td>\n",
       "      <td>admission date:  [**2150-4-17**]              ...</td>\n",
       "    </tr>\n",
       "    <tr>\n",
       "      <th>1</th>\n",
       "      <td>100009</td>\n",
       "      <td>Admission Date:  [**2162-5-16**]              ...</td>\n",
       "      <td>285</td>\n",
       "      <td>admission date:  [**2162-5-16**]              ...</td>\n",
       "    </tr>\n",
       "    <tr>\n",
       "      <th>2</th>\n",
       "      <td>100011</td>\n",
       "      <td>Admission Date:  [**2177-8-29**]              ...</td>\n",
       "      <td>285</td>\n",
       "      <td>admission date:  [**2177-8-29**]              ...</td>\n",
       "    </tr>\n",
       "    <tr>\n",
       "      <th>3</th>\n",
       "      <td>100021</td>\n",
       "      <td>Admission Date:  [**2109-8-17**]              ...</td>\n",
       "      <td>281</td>\n",
       "      <td>admission date:  [**2109-8-17**]              ...</td>\n",
       "    </tr>\n",
       "    <tr>\n",
       "      <th>4</th>\n",
       "      <td>100030</td>\n",
       "      <td>Admission Date:  [**2199-12-3**]       Dischar...</td>\n",
       "      <td>285</td>\n",
       "      <td>admission date:  [**2199-12-3**]       dischar...</td>\n",
       "    </tr>\n",
       "    <tr>\n",
       "      <th>...</th>\n",
       "      <td>...</td>\n",
       "      <td>...</td>\n",
       "      <td>...</td>\n",
       "      <td>...</td>\n",
       "    </tr>\n",
       "    <tr>\n",
       "      <th>95</th>\n",
       "      <td>100612</td>\n",
       "      <td>Admission Date:  [**2191-1-27**]              ...</td>\n",
       "      <td>285</td>\n",
       "      <td>admission date:  [**2191-1-27**]              ...</td>\n",
       "    </tr>\n",
       "    <tr>\n",
       "      <th>96</th>\n",
       "      <td>100622</td>\n",
       "      <td>Admission Date:  [**2189-2-26**]              ...</td>\n",
       "      <td>285</td>\n",
       "      <td>admission date:  [**2189-2-26**]              ...</td>\n",
       "    </tr>\n",
       "    <tr>\n",
       "      <th>97</th>\n",
       "      <td>100636</td>\n",
       "      <td>Admission Date:  [**2189-1-17**]              ...</td>\n",
       "      <td>285</td>\n",
       "      <td>admission date:  [**2189-1-17**]              ...</td>\n",
       "    </tr>\n",
       "    <tr>\n",
       "      <th>98</th>\n",
       "      <td>100638</td>\n",
       "      <td>Admission Date:  [**2158-3-31**]              ...</td>\n",
       "      <td>285</td>\n",
       "      <td>admission date:  [**2158-3-31**]              ...</td>\n",
       "    </tr>\n",
       "    <tr>\n",
       "      <th>99</th>\n",
       "      <td>100653</td>\n",
       "      <td>Admission Date:  [**2157-7-29**]              ...</td>\n",
       "      <td>285</td>\n",
       "      <td>admission date:  [**2157-7-29**]              ...</td>\n",
       "    </tr>\n",
       "  </tbody>\n",
       "</table>\n",
       "<p>100 rows × 4 columns</p>\n",
       "</div>"
      ],
      "text/plain": [
       "    HADM_ID                                               TEXT LABLE  \\\n",
       "0    100003  Admission Date:  [**2150-4-17**]              ...   285   \n",
       "1    100009  Admission Date:  [**2162-5-16**]              ...   285   \n",
       "2    100011  Admission Date:  [**2177-8-29**]              ...   285   \n",
       "3    100021  Admission Date:  [**2109-8-17**]              ...   281   \n",
       "4    100030  Admission Date:  [**2199-12-3**]       Dischar...   285   \n",
       "..      ...                                                ...   ...   \n",
       "95   100612  Admission Date:  [**2191-1-27**]              ...   285   \n",
       "96   100622  Admission Date:  [**2189-2-26**]              ...   285   \n",
       "97   100636  Admission Date:  [**2189-1-17**]              ...   285   \n",
       "98   100638  Admission Date:  [**2158-3-31**]              ...   285   \n",
       "99   100653  Admission Date:  [**2157-7-29**]              ...   285   \n",
       "\n",
       "                                               Sample  \n",
       "0   admission date:  [**2150-4-17**]              ...  \n",
       "1   admission date:  [**2162-5-16**]              ...  \n",
       "2   admission date:  [**2177-8-29**]              ...  \n",
       "3   admission date:  [**2109-8-17**]              ...  \n",
       "4   admission date:  [**2199-12-3**]       dischar...  \n",
       "..                                                ...  \n",
       "95  admission date:  [**2191-1-27**]              ...  \n",
       "96  admission date:  [**2189-2-26**]              ...  \n",
       "97  admission date:  [**2189-1-17**]              ...  \n",
       "98  admission date:  [**2158-3-31**]              ...  \n",
       "99  admission date:  [**2157-7-29**]              ...  \n",
       "\n",
       "[100 rows x 4 columns]"
      ]
     },
     "execution_count": 32,
     "metadata": {},
     "output_type": "execute_result"
    }
   ],
   "source": [
    "df"
   ]
  },
  {
   "cell_type": "code",
   "execution_count": null,
   "metadata": {},
   "outputs": [],
   "source": [
    "def entitesbio(row):\n",
    "    x = str(row['TEXT'])\n",
    "    doc = bio(x)\n",
    "    entities = []\n",
    "    for ent in doc.ents:\n",
    "      entities.append((ent, ent.label_))      \n",
    "    return entities"
   ]
  },
  {
   "cell_type": "code",
   "execution_count": 34,
   "metadata": {},
   "outputs": [
    {
     "name": "stdout",
     "output_type": "stream",
     "text": [
      "12\n",
      "10\n",
      "8\n",
      "6\n",
      "4\n",
      "2\n"
     ]
    }
   ],
   "source": [
    "for i in range(12, 0, -2):\n",
    "    print(i)"
   ]
  },
  {
   "cell_type": "code",
   "execution_count": 60,
   "metadata": {},
   "outputs": [
    {
     "data": {
      "text/plain": [
       "'rovvy*~ro|o'"
      ]
     },
     "execution_count": 60,
     "metadata": {},
     "output_type": "execute_result"
    }
   ],
   "source": [
    "text = 'hello there'\n",
    "\n",
    "def encrypt(message, key):\n",
    "    encrypted_msg = '' #r,o\n",
    "    for char in message: #h , e\n",
    "        shifted = ord(char) + key #s = 114, 111\n",
    "        encrypted_msg += chr(shifted) #logic chr(114)\n",
    "    return encrypted_msg\n",
    "\n",
    "encrypt(text, 10)\n",
    "        \n",
    "\n"
   ]
  },
  {
   "cell_type": "code",
   "execution_count": 68,
   "metadata": {},
   "outputs": [
    {
     "data": {
      "text/plain": [
       "104"
      ]
     },
     "execution_count": 68,
     "metadata": {},
     "output_type": "execute_result"
    }
   ],
   "source": [
    "ord('h')"
   ]
  },
  {
   "cell_type": "code",
   "execution_count": 69,
   "metadata": {},
   "outputs": [],
   "source": [
    "encrypted_msg = 'rovvy*~ro|o'\n",
    "\n",
    "def decrypt(message, key):\n",
    "    decrypt_msg = ''\n",
    "\n",
    "    for char in message: #h , e\n",
    "        shifted = ord(char) - key * 10 #s = 114, 111\n",
    "        decrypt_msg += chr(shifted) #logic chr(114)\n",
    "\n",
    "    return decrypt_msg\n",
    "        \n"
   ]
  },
  {
   "cell_type": "code",
   "execution_count": 70,
   "metadata": {},
   "outputs": [
    {
     "data": {
      "text/plain": [
       "'hello there'"
      ]
     },
     "execution_count": 70,
     "metadata": {},
     "output_type": "execute_result"
    }
   ],
   "source": [
    "decrypt(encrypted_msg, 10)"
   ]
  },
  {
   "cell_type": "code",
   "execution_count": 2,
   "metadata": {},
   "outputs": [],
   "source": [
    "import http.server \n",
    "import socketserver "
   ]
  },
  {
   "cell_type": "code",
   "execution_count": 3,
   "metadata": {},
   "outputs": [
    {
     "name": "stdout",
     "output_type": "stream",
     "text": [
      "port open:  8000\n"
     ]
    },
    {
     "name": "stderr",
     "output_type": "stream",
     "text": [
      "127.0.0.1 - - [03/Apr/2024 10:45:53] \"GET / HTTP/1.1\" 200 -\n",
      "127.0.0.1 - - [03/Apr/2024 10:45:53] code 404, message File not found\n",
      "127.0.0.1 - - [03/Apr/2024 10:45:53] \"GET /favicon.ico HTTP/1.1\" 404 -\n",
      "138.80.92.221 - - [03/Apr/2024 10:47:06] \"GET / HTTP/1.1\" 200 -\n",
      "138.80.92.221 - - [03/Apr/2024 10:47:06] code 404, message File not found\n",
      "138.80.92.221 - - [03/Apr/2024 10:47:06] \"GET /favicon.ico HTTP/1.1\" 404 -\n",
      "138.80.92.221 - - [03/Apr/2024 10:47:06] code 400, message Bad request version ('Ák(í\\\\x17UñUKà´C\\\\x18\\\\x887GFJ\\\\x06\\\\x96æïåÃ·ôMÂE\\\\x06\\\\x95O\\\\x00\\\\x1b\\\\x00\\\\x03\\\\x02\\\\x00\\\\x02\\\\x00')\n",
      "138.80.92.221 - - [03/Apr/2024 10:47:06] \"\\x16\\x03\\x01\\x02\\x1a\\x01\\x00\\x02\\x16\\x03\\x03\\x8dí\\x1a-\\x97Iê¥¡&\\x9a¡h\\x063á¸YS0y\\x19Wµ«£\\x18(âÅW< M¢[áoä\\x88Gãzß\\x92Ä¨`?1í\\x1cEH\\x17nc¸\\x0fw\\x02b r \\x00 **\\x13\\x01\\x13\\x02\\x13\\x03À+À/À,À0Ì©Ì¨À\\x13À\\x14\\x00\\x9c\\x00\\x9d\\x00/\\x005\\x01\\x00\\x01­ÚÚ\\x00\\x00\\x00\\x0d\\x00\\x12\\x00\\x10\\x04\\x03\\x08\\x04\\x04\\x01\\x05\\x03\\x08\\x05\\x05\\x01\\x08\\x06\\x06\\x01\\x003\\x00+\\x00)\\x9a\\x9a\\x00\\x01\\x00\\x00\\x1d\\x00 Ák(í\\x17UñUKà´C\\x18\\x887GFJ\\x06\\x96æïåÃ·ôMÂE\\x06\\x95O\\x00\\x1b\\x00\\x03\\x02\\x00\\x02\\x00\" 400 -\n",
      "138.80.92.221 - - [03/Apr/2024 10:47:06] code 400, message Bad request version ('ÚÚ\\\\x13\\\\x01\\\\x13\\\\x02\\\\x13\\\\x03À+À/À,À0Ì©Ì¨À\\\\x13À\\\\x14\\\\x00\\\\x9c\\\\x00\\\\x9d\\\\x00/\\\\x005\\\\x01\\\\x00\\\\x01\\\\x93')\n",
      "138.80.92.221 - - [03/Apr/2024 10:47:06] \"\\x16\\x03\\x01\\x02\\x00\\x01\\x00\\x01ü\\x03\\x03l|pz6sùûÙGºÌnøðØ\\x1e4\\x005\\x87^Ú\\x9f¿û|¯õ3©\\x15 ü\\x14\\x92$ü\\x8bÝ\\x0f(ó\\x9a(MÄ.D\\x1c!E\\x7fXg$2¾|&\\x0c\\x06Å N\\x00 ÚÚ\\x13\\x01\\x13\\x02\\x13\\x03À+À/À,À0Ì©Ì¨À\\x13À\\x14\\x00\\x9c\\x00\\x9d\\x00/\\x005\\x01\\x00\\x01\\x93\" 400 -\n"
     ]
    },
    {
     "ename": "KeyboardInterrupt",
     "evalue": "",
     "output_type": "error",
     "traceback": [
      "\u001b[1;31m---------------------------------------------------------------------------\u001b[0m",
      "\u001b[1;31mKeyboardInterrupt\u001b[0m                         Traceback (most recent call last)",
      "Cell \u001b[1;32mIn[3], line 10\u001b[0m\n\u001b[0;32m      8\u001b[0m \u001b[38;5;28;01mwith\u001b[39;00m socketserver\u001b[38;5;241m.\u001b[39mTCPServer((\u001b[38;5;124m\"\u001b[39m\u001b[38;5;124m\"\u001b[39m, port), Handler) \u001b[38;5;28;01mas\u001b[39;00m ht:\n\u001b[0;32m      9\u001b[0m     \u001b[38;5;28mprint\u001b[39m(\u001b[38;5;124m'\u001b[39m\u001b[38;5;124mport open: \u001b[39m\u001b[38;5;124m'\u001b[39m, port)\n\u001b[1;32m---> 10\u001b[0m     \u001b[43mht\u001b[49m\u001b[38;5;241;43m.\u001b[39;49m\u001b[43mserve_forever\u001b[49m\u001b[43m(\u001b[49m\u001b[43m)\u001b[49m\n",
      "File \u001b[1;32mc:\\Users\\abeeravolu\\AppData\\Local\\Programs\\Python\\Python312\\Lib\\socketserver.py:235\u001b[0m, in \u001b[0;36mBaseServer.serve_forever\u001b[1;34m(self, poll_interval)\u001b[0m\n\u001b[0;32m    232\u001b[0m selector\u001b[38;5;241m.\u001b[39mregister(\u001b[38;5;28mself\u001b[39m, selectors\u001b[38;5;241m.\u001b[39mEVENT_READ)\n\u001b[0;32m    234\u001b[0m \u001b[38;5;28;01mwhile\u001b[39;00m \u001b[38;5;129;01mnot\u001b[39;00m \u001b[38;5;28mself\u001b[39m\u001b[38;5;241m.\u001b[39m__shutdown_request:\n\u001b[1;32m--> 235\u001b[0m     ready \u001b[38;5;241m=\u001b[39m \u001b[43mselector\u001b[49m\u001b[38;5;241;43m.\u001b[39;49m\u001b[43mselect\u001b[49m\u001b[43m(\u001b[49m\u001b[43mpoll_interval\u001b[49m\u001b[43m)\u001b[49m\n\u001b[0;32m    236\u001b[0m     \u001b[38;5;66;03m# bpo-35017: shutdown() called during select(), exit immediately.\u001b[39;00m\n\u001b[0;32m    237\u001b[0m     \u001b[38;5;28;01mif\u001b[39;00m \u001b[38;5;28mself\u001b[39m\u001b[38;5;241m.\u001b[39m__shutdown_request:\n",
      "File \u001b[1;32mc:\\Users\\abeeravolu\\AppData\\Local\\Programs\\Python\\Python312\\Lib\\selectors.py:323\u001b[0m, in \u001b[0;36mSelectSelector.select\u001b[1;34m(self, timeout)\u001b[0m\n\u001b[0;32m    321\u001b[0m ready \u001b[38;5;241m=\u001b[39m []\n\u001b[0;32m    322\u001b[0m \u001b[38;5;28;01mtry\u001b[39;00m:\n\u001b[1;32m--> 323\u001b[0m     r, w, _ \u001b[38;5;241m=\u001b[39m \u001b[38;5;28;43mself\u001b[39;49m\u001b[38;5;241;43m.\u001b[39;49m\u001b[43m_select\u001b[49m\u001b[43m(\u001b[49m\u001b[38;5;28;43mself\u001b[39;49m\u001b[38;5;241;43m.\u001b[39;49m\u001b[43m_readers\u001b[49m\u001b[43m,\u001b[49m\u001b[43m \u001b[49m\u001b[38;5;28;43mself\u001b[39;49m\u001b[38;5;241;43m.\u001b[39;49m\u001b[43m_writers\u001b[49m\u001b[43m,\u001b[49m\u001b[43m \u001b[49m\u001b[43m[\u001b[49m\u001b[43m]\u001b[49m\u001b[43m,\u001b[49m\u001b[43m \u001b[49m\u001b[43mtimeout\u001b[49m\u001b[43m)\u001b[49m\n\u001b[0;32m    324\u001b[0m \u001b[38;5;28;01mexcept\u001b[39;00m \u001b[38;5;167;01mInterruptedError\u001b[39;00m:\n\u001b[0;32m    325\u001b[0m     \u001b[38;5;28;01mreturn\u001b[39;00m ready\n",
      "File \u001b[1;32mc:\\Users\\abeeravolu\\AppData\\Local\\Programs\\Python\\Python312\\Lib\\selectors.py:314\u001b[0m, in \u001b[0;36mSelectSelector._select\u001b[1;34m(self, r, w, _, timeout)\u001b[0m\n\u001b[0;32m    313\u001b[0m \u001b[38;5;28;01mdef\u001b[39;00m \u001b[38;5;21m_select\u001b[39m(\u001b[38;5;28mself\u001b[39m, r, w, _, timeout\u001b[38;5;241m=\u001b[39m\u001b[38;5;28;01mNone\u001b[39;00m):\n\u001b[1;32m--> 314\u001b[0m     r, w, x \u001b[38;5;241m=\u001b[39m \u001b[43mselect\u001b[49m\u001b[38;5;241;43m.\u001b[39;49m\u001b[43mselect\u001b[49m\u001b[43m(\u001b[49m\u001b[43mr\u001b[49m\u001b[43m,\u001b[49m\u001b[43m \u001b[49m\u001b[43mw\u001b[49m\u001b[43m,\u001b[49m\u001b[43m \u001b[49m\u001b[43mw\u001b[49m\u001b[43m,\u001b[49m\u001b[43m \u001b[49m\u001b[43mtimeout\u001b[49m\u001b[43m)\u001b[49m\n\u001b[0;32m    315\u001b[0m     \u001b[38;5;28;01mreturn\u001b[39;00m r, w \u001b[38;5;241m+\u001b[39m x, []\n",
      "\u001b[1;31mKeyboardInterrupt\u001b[0m: "
     ]
    }
   ],
   "source": [
    "from http.server import SimpleHTTPRequestHandler\n",
    "\n",
    "\n",
    "port = 8000\n",
    "\n",
    "Handler = http.server.SimpleHTTPRequestHandler\n",
    "\n",
    "with socketserver.TCPServer((\"\", port), Handler) as ht:\n",
    "    print('port open: ', port)\n",
    "    ht.serve_forever()\n",
    "    \n"
   ]
  },
  {
   "cell_type": "code",
   "execution_count": null,
   "metadata": {},
   "outputs": [],
   "source": [
    "#how to submit the assignment \n",
    "\n",
    "#1. only submit the .py or .ipynb file. (all answers (code & explanations) \n",
    "                                     #should be there)\n",
    "#2. the output files (txt files, image file) and the program files should be \n",
    "#   zipped"
   ]
  },
  {
   "cell_type": "code",
   "execution_count": null,
   "metadata": {},
   "outputs": [],
   "source": [
    "from transformers import AutoTokenizer\n",
    "\n",
    "tokenizer = AutoTokenizer.from_pretrained(\"pucpr/biobertpt-all\")"
   ]
  }
 ],
 "metadata": {
  "kernelspec": {
   "display_name": "Python 3",
   "language": "python",
   "name": "python3"
  },
  "language_info": {
   "codemirror_mode": {
    "name": "ipython",
    "version": 3
   },
   "file_extension": ".py",
   "mimetype": "text/x-python",
   "name": "python",
   "nbconvert_exporter": "python",
   "pygments_lexer": "ipython3",
   "version": "3.12.2"
  }
 },
 "nbformat": 4,
 "nbformat_minor": 2
}
